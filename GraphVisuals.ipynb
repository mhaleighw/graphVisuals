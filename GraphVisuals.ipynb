{
 "cells": [
  {
   "cell_type": "code",
   "execution_count": 1,
   "metadata": {
    "id": "FS8vxIQbJApy"
   },
   "outputs": [],
   "source": [
    "import numpy as np\n",
    "import matplotlib.pyplot as plt"
   ]
  },
  {
   "cell_type": "code",
   "execution_count": 2,
   "metadata": {
    "id": "gCy4Tpy3JBZK"
   },
   "outputs": [],
   "source": [
    "def plot_line(x, y, x_label, y_label):\n",
    "    plt.plot(x, y, label=\"Line Graph\")\n",
    "    plt.title(\"Line Graph\")\n",
    "    plt.xlabel(x_label)\n",
    "    plt.ylabel(y_label)\n",
    "    plt.legend()\n",
    "    plt.show()"
   ]
  },
  {
   "cell_type": "code",
   "execution_count": 3,
   "metadata": {
    "id": "fCmTAaWEJE1g"
   },
   "outputs": [],
   "source": [
    "def plot_bar(x, y, x_label, y_label):\n",
    "    plt.bar(x, y, label=\"Bar Chart\")\n",
    "    plt.title(\"Bar Chart\")\n",
    "    plt.xlabel(x_label)\n",
    "    plt.ylabel(y_label)\n",
    "    plt.legend()\n",
    "    plt.show()"
   ]
  },
  {
   "cell_type": "code",
   "execution_count": 4,
   "metadata": {
    "id": "yykH4EhRJH0I"
   },
   "outputs": [],
   "source": [
    "def plot_scatter(x, y, x_label, y_label):\n",
    "    plt.scatter(x, y, label=\"Scatter Plot\")\n",
    "    plt.title(\"Scatter Plot\")\n",
    "    plt.xlabel(x_label)\n",
    "    plt.ylabel(y_label)\n",
    "    plt.legend()\n",
    "    plt.show()"
   ]
  },
  {
   "cell_type": "code",
   "execution_count": 5,
   "metadata": {
    "id": "T6Zbkd2hJKzz"
   },
   "outputs": [],
   "source": [
    "def plot_histogram(data, x_label, y_label):\n",
    "    plt.hist(data, bins='auto', alpha=0.7, rwidth=0.85, label=\"Histogram\")\n",
    "    plt.title(\"Histogram\")\n",
    "    plt.xlabel(x_label)\n",
    "    plt.ylabel(y_label)\n",
    "    plt.legend()\n",
    "    plt.show()"
   ]
  },
  {
   "cell_type": "code",
   "execution_count": 6,
   "metadata": {
    "colab": {
     "base_uri": "https://localhost:8080/"
    },
    "id": "TVH-1Uj0JNBM",
    "outputId": "eb06b511-c274-48ae-c555-3f08023884f5"
   },
   "outputs": [
    {
     "name": "stdout",
     "output_type": "stream",
     "text": [
      "Enter the type of graph (line, bar, scatter, histogram): scatter\n",
      "Enter the x-axis title: temperature (fahrenheit)\n",
      "Enter the y-axis title: visitors\n",
      "Enter integer values (comma-separated): 50, 55, 56, 46, 23, 69, 72, 81\n"
     ]
    }
   ],
   "source": [
    "graph_type = input(\"Enter the type of graph (line, bar, scatter, histogram): \").lower()\n",
    "x_label = input(\"Enter the x-axis title: \")\n",
    "y_label = input(\"Enter the y-axis title: \")\n",
    "\n",
    "data = list(map(int, input(\"Enter integer values (comma-separated): \").split(',')))"
   ]
  },
  {
   "cell_type": "code",
   "execution_count": 7,
   "metadata": {
    "colab": {
     "base_uri": "https://localhost:8080/",
     "height": 472
    },
    "id": "1bq81-H0JNn_",
    "outputId": "a5aebe72-47f1-434d-b074-ac87f1166e0b",
    "scrolled": false
   },
   "outputs": [
    {
     "data": {
      "image/png": "[encoded data removed]",
      "text/plain": [
       "<Figure size 432x288 with 1 Axes>"
      ]
     },
     "metadata": {
      "needs_background": "light"
     },
     "output_type": "display_data"
    }
   ],
   "source": [
    "if graph_type == \"line\":\n",
    "    plot_line(np.arange(len(data)), data, x_label, y_label)\n",
    "elif graph_type == \"bar\":\n",
    "    plot_bar(np.arange(len(data)), data, x_label, y_label)\n",
    "elif graph_type == \"scatter\":\n",
    "    plot_scatter(np.arange(len(data)), data, x_label, y_label)\n",
    "elif graph_type == \"histogram\":\n",
    "    plot_histogram(data, x_label, y_label)\n",
    "else:\n",
    "    print(\"Invalid graph type. Please choose from 'line', 'bar', 'scatter', or 'histogram'.\")"
   ]
  },
  {
   "cell_type": "code",
   "execution_count": null,
   "metadata": {},
   "outputs": [],
   "source": []
  }
 ],
 "metadata": {
  "colab": {
   "provenance": []
  },
  "kernelspec": {
   "display_name": "Python 3 (ipykernel)",
   "language": "python",
   "name": "python3"
  },
  "language_info": {
   "codemirror_mode": {
    "name": "ipython",
    "version": 3
   },
   "file_extension": ".py",
   "mimetype": "text/x-python",
   "name": "python",
   "nbconvert_exporter": "python",
   "pygments_lexer": "ipython3",
   "version": "3.10.2"
  }
 },
 "nbformat": 4,
 "nbformat_minor": 1
}
